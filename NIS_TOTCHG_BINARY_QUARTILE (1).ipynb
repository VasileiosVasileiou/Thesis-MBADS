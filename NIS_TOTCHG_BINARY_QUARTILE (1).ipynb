{
 "cells": [
  {
   "cell_type": "code",
   "execution_count": null,
   "id": "43a517f6",
   "metadata": {},
   "outputs": [],
   "source": [
    "import pandas as pd \n",
    "import numpy as np \n",
    "import xgboost as xgb\n",
    "import matplotlib.pyplot as plt \n",
    "#matplotlib.style.use('ggplot') \n",
    "from numpy import mean \n",
    "from numpy import sort \n",
    "from sklearn.model_selection import cross_val_score \n",
    "from sklearn.model_selection import RepeatedStratifiedKFold \n",
    "from sklearn.model_selection import StratifiedKFold \n",
    "from sklearn.model_selection import GridSearchCV, KFold\n",
    "from sklearn import preprocessing \n",
    "from xgboost import XGBClassifier \n",
    "from sklearn.metrics import mean_squared_error\n",
    "from xgboost import XGBRegressor\n",
    "from xgboost import plot_importance\n",
    "from xgboost import cv \n",
    "from sklearn.model_selection import train_test_split \n",
    "from sklearn.feature_selection import SelectFromModel \n",
    "from sklearn.metrics import roc_auc_score, precision_recall_curve\n",
    "from sklearn.metrics import f1_score, roc_auc_score, accuracy_score, precision_score, recall_score\n",
    "from sklearn.metrics import mean_squared_error, mean_absolute_error, r2_score\n",
    "from matplotlib import pyplot\n",
    "import shap"
   ]
  },
  {
   "cell_type": "code",
   "execution_count": null,
   "id": "04b9e8aa",
   "metadata": {},
   "outputs": [],
   "source": [
    "dtype = {\n",
    "    'AGE_NEONATE': int,\n",
    "    'AWEEKEND': int,\n",
    "    'DIED': int,\n",
    "    'ELECTIVE': int,\n",
    "    'FEMALE': int,\n",
    "    'HOSPBRTH': int,\n",
    "    'NEOMAT': int,\n",
    "    'ORPROC': int,\n",
    "    'HCUP_ED': int,\n",
    "    'Cancer': int,\n",
    "    'Cardio_Circulatory': int,\n",
    "    'Pneumo': int,\n",
    "    'Gastro': int,\n",
    "    'Renal': int,\n",
    "    'Genital': int,\n",
    "    'Pregnancy': int,\n",
    "    'Bones_Joints_Chronic': int,\n",
    "    'Congenital': int,\n",
    "    'Myoskeletal_Acute': int,\n",
    "    'Emergency': int,\n",
    "    'NIS_STRATUM': int,\n",
    "    'ZIPINC_QRTL': int,\n",
    "    'PAY1': int,\n",
    "    'PL_NCHS': int,\n",
    "    'RACE': int,\n",
    "    'DISPUNIFORM': int,\n",
    "    'TRAN_IN': int,\n",
    "    'TRAN_OUT': int,\n",
    "    'AMONTH': int,\n",
    "    'HOSP_DIVISION': int,\n",
    "    'HOSP_NIS': int,\n",
    "    'AGE': float,\n",
    "    'LOS': float,\n",
    "    'NCHRONIC': float,\n",
    "    'NDX': float,\n",
    "    'NECODE': float,\n",
    "    'NPR': float,\n",
    "    'TOTCHG': float,\n",
    "    }"
   ]
  },
  {
   "cell_type": "code",
   "execution_count": null,
   "id": "c2ebd3a1",
   "metadata": {},
   "outputs": [],
   "source": [
    "df=pd.read_csv('NIS 2013XGBoost_withoutNaN.csv', delimiter=';', na_values=' ')\n",
    "df.drop('KEY_NIS', axis=1, inplace = True)\n",
    "df.dropna(inplace=True)\n",
    "for k, v in dtype.items():\n",
    "    df[k] = df[k].astype(v)"
   ]
  },
  {
   "cell_type": "code",
   "execution_count": null,
   "id": "54ba1d30",
   "metadata": {},
   "outputs": [],
   "source": [
    "df.columns = df.columns.str.strip()"
   ]
  },
  {
   "cell_type": "code",
   "execution_count": null,
   "id": "97148a14",
   "metadata": {},
   "outputs": [],
   "source": [
    "#df.fillna('0', inplace=True)\n"
   ]
  },
  {
   "cell_type": "code",
   "execution_count": null,
   "id": "df4a0de5",
   "metadata": {},
   "outputs": [],
   "source": [
    "print(df.columns)\n"
   ]
  },
  {
   "cell_type": "code",
   "execution_count": null,
   "id": "054f9c74",
   "metadata": {},
   "outputs": [],
   "source": [
    "#df['DIED'] = pd.to_numeric(df['DIED'], errors='coerce').fillna(0).astype('Int64')\n",
    "df.dropna(subset=['DIED'], inplace=True)\n",
    "#df['DIED'] = df['DIED'].astype('int64')"
   ]
  },
  {
   "cell_type": "code",
   "execution_count": null,
   "id": "c215c172",
   "metadata": {},
   "outputs": [],
   "source": [
    "# Set pandas options to display all rows and columns\n",
    "pd.set_option('display.max_rows', None)\n",
    "pd.set_option('display.max_columns', None)\n",
    "\n",
    "# Display the DataFrame with full information\n",
    "print(\"Columns and Data Types:\")\n",
    "print(df.dtypes)"
   ]
  },
  {
   "cell_type": "code",
   "execution_count": null,
   "id": "6cccff3a",
   "metadata": {},
   "outputs": [],
   "source": [
    "value_distribution = df['TOTCHG'].value_counts()\n",
    "value_distribution"
   ]
  },
  {
   "cell_type": "code",
   "execution_count": null,
   "id": "097b6760",
   "metadata": {},
   "outputs": [],
   "source": [
    "fourth_quartile = df['TOTCHG'].quantile(0.75)\n",
    "df['y'] = (df['TOTCHG'] > fourth_quartile).astype(int)\n",
    "df['y'].value_counts()"
   ]
  },
  {
   "cell_type": "code",
   "execution_count": null,
   "id": "f34dae76",
   "metadata": {},
   "outputs": [],
   "source": [
    "df = df.drop(columns=['TOTCHG', 'DIED'])\n",
    "df = df.select_dtypes(exclude=['object', 'category'])\n",
    "X, y = df.drop('y', axis=1), df['y']"
   ]
  },
  {
   "cell_type": "code",
   "execution_count": null,
   "id": "21e367df",
   "metadata": {},
   "outputs": [],
   "source": [
    "X_train, X_test, y_train, y_test = train_test_split(X, y, test_size=0.25, random_state=0)\n"
   ]
  },
  {
   "cell_type": "code",
   "execution_count": null,
   "id": "ec03992c",
   "metadata": {},
   "outputs": [],
   "source": [
    "y_train.dtypes"
   ]
  },
  {
   "cell_type": "code",
   "execution_count": null,
   "id": "91171aa1",
   "metadata": {},
   "outputs": [],
   "source": [
    "X_train.dtypes"
   ]
  },
  {
   "cell_type": "code",
   "execution_count": null,
   "id": "665de0cc",
   "metadata": {},
   "outputs": [],
   "source": [
    "paramGrid = { \n",
    "    \"learning_rate\": [0.05], \n",
    "    \"n_estimators\": [400], \n",
    "    \"max_depth\": [6],  \n",
    "    'subsample': [0.8], \n",
    "    \"colsample_bylevel\": [0.8],\n",
    "    \"colsample_bytree\": [0.8],\n",
    "    'gamma': [0.2]\n",
    "}"
   ]
  },
  {
   "cell_type": "code",
   "execution_count": null,
   "id": "dd7c92c4",
   "metadata": {},
   "outputs": [],
   "source": [
    "model = XGBClassifier(objective=\"binary:logistic\", use_label_encoder=False, random_state=42) \n",
    "cv = KFold(n_splits=5, shuffle=True)\n"
   ]
  },
  {
   "cell_type": "code",
   "execution_count": null,
   "id": "4fc894bf",
   "metadata": {
    "scrolled": true
   },
   "outputs": [],
   "source": [
    "gridsearch = GridSearchCV(model, paramGrid, scoring='roc_auc', cv=cv, verbose=2) \n",
    "fit = gridsearch.fit(X_train, y_train) "
   ]
  },
  {
   "cell_type": "code",
   "execution_count": null,
   "id": "56713545",
   "metadata": {},
   "outputs": [],
   "source": [
    "print(\"Best ROC AUC score:\", fit.best_score_)\n",
    "print(\"Best parameters:\", fit.best_params_)"
   ]
  },
  {
   "cell_type": "code",
   "execution_count": null,
   "id": "9f62d69e",
   "metadata": {},
   "outputs": [],
   "source": [
    "best_model = fit.best_estimator_\n",
    "\n",
    "y_pred = best_model.predict(X_test)\n",
    "\n",
    "f1 = f1_score(y_test, y_pred)\n",
    "roc_auc = roc_auc_score(y_test, y_pred)\n",
    "accuracy = accuracy_score(y_test, y_pred)\n",
    "precision = precision_score(y_test, y_pred)\n",
    "recall = recall_score(y_test, y_pred)"
   ]
  },
  {
   "cell_type": "code",
   "execution_count": null,
   "id": "33fe4d78",
   "metadata": {},
   "outputs": [],
   "source": [
    "print(f'F1 Score: {f1:.4f}')\n",
    "print(f'ROC-AUC: {roc_auc:.4f}')\n",
    "print(f'Accuracy: {accuracy:.4f}')\n",
    "print(f'Precision: {precision:.4f}')\n",
    "print(f'Recall: {recall:.4f}')"
   ]
  },
  {
   "cell_type": "code",
   "execution_count": null,
   "id": "41c92af8",
   "metadata": {},
   "outputs": [],
   "source": [
    "xgb.plot_importance(best_model)\n",
    "plt.show()"
   ]
  },
  {
   "cell_type": "code",
   "execution_count": null,
   "id": "6e7f9195",
   "metadata": {},
   "outputs": [],
   "source": [
    "explainer = shap.TreeExplainer(best_model)"
   ]
  },
  {
   "cell_type": "code",
   "execution_count": null,
   "id": "762f8b0f",
   "metadata": {},
   "outputs": [],
   "source": [
    "shap_values = explainer.shap_values(X_test)\n",
    "\n",
    "# Visualize the SHAP values\n",
    "shap.summary_plot(shap_values, X_test)\n"
   ]
  },
  {
   "cell_type": "code",
   "execution_count": null,
   "id": "11e4701e",
   "metadata": {},
   "outputs": [],
   "source": [
    "for x in X.columns: shap.dependence_plot(x, shap_values, X_test, interaction_index=None)"
   ]
  },
  {
   "cell_type": "code",
   "execution_count": null,
   "id": "1aea107f",
   "metadata": {},
   "outputs": [],
   "source": []
  },
  {
   "cell_type": "code",
   "execution_count": null,
   "id": "d4a2bc76",
   "metadata": {},
   "outputs": [],
   "source": []
  }
 ],
 "metadata": {
  "kernelspec": {
   "display_name": "Python 3 (ipykernel)",
   "language": "python",
   "name": "python3"
  },
  "language_info": {
   "codemirror_mode": {
    "name": "ipython",
    "version": 3
   },
   "file_extension": ".py",
   "mimetype": "text/x-python",
   "name": "python",
   "nbconvert_exporter": "python",
   "pygments_lexer": "ipython3",
   "version": "3.9.7"
  }
 },
 "nbformat": 4,
 "nbformat_minor": 5
}
